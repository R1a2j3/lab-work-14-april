{
 "cells": [
  {
   "cell_type": "code",
   "execution_count": 5,
   "id": "b2faadd2",
   "metadata": {},
   "outputs": [],
   "source": [
    "import numpy as np\n",
    "import matplotlib.pyplot as plt"
   ]
  },
  {
   "cell_type": "code",
   "execution_count": 2,
   "id": "d2723b85",
   "metadata": {},
   "outputs": [],
   "source": [
    "a=9"
   ]
  },
  {
   "cell_type": "code",
   "execution_count": 3,
   "id": "d1772d34",
   "metadata": {},
   "outputs": [],
   "source": [
    "b=9"
   ]
  },
  {
   "cell_type": "code",
   "execution_count": 6,
   "id": "90b824f4",
   "metadata": {},
   "outputs": [
    {
     "name": "stdout",
     "output_type": "stream",
     "text": [
      "rsj\n"
     ]
    }
   ],
   "source": [
    "if a==b:\n",
    "    print(\"rsj\")"
   ]
  },
  {
   "cell_type": "code",
   "execution_count": 15,
   "id": "d0478a23",
   "metadata": {},
   "outputs": [
    {
     "name": "stdout",
     "output_type": "stream",
     "text": [
      "0\n",
      "1\n",
      "2\n",
      "3\n",
      "4\n",
      "5\n"
     ]
    }
   ],
   "source": [
    "a= 6\n",
    "if a ==6:\n",
    "    for i in range(a):\n",
    "         print(i)"
   ]
  },
  {
   "cell_type": "code",
   "execution_count": 39,
   "id": "b04c9f84",
   "metadata": {},
   "outputs": [
    {
     "name": "stdout",
     "output_type": "stream",
     "text": [
      "52\n"
     ]
    }
   ],
   "source": [
    "x=5 \n",
    "f = lambda x: 2*x**2+2\n",
    "print (f(x))"
   ]
  },
  {
   "cell_type": "code",
   "execution_count": 22,
   "id": "8c283496",
   "metadata": {},
   "outputs": [],
   "source": [
    "s=2\n"
   ]
  },
  {
   "cell_type": "code",
   "execution_count": 23,
   "id": "90bdf7bd",
   "metadata": {},
   "outputs": [],
   "source": [
    "t=2"
   ]
  },
  {
   "cell_type": "code",
   "execution_count": 27,
   "id": "69efd0fc",
   "metadata": {},
   "outputs": [
    {
     "name": "stdout",
     "output_type": "stream",
     "text": [
      "Sharoz\n"
     ]
    }
   ],
   "source": [
    " if s==t:\n",
    "        print(\"Sharoz\")\n",
    "    "
   ]
  },
  {
   "cell_type": "code",
   "execution_count": null,
   "id": "bab4fbad",
   "metadata": {},
   "outputs": [],
   "source": []
  }
 ],
 "metadata": {
  "kernelspec": {
   "display_name": "Python 3 (ipykernel)",
   "language": "python",
   "name": "python3"
  },
  "language_info": {
   "codemirror_mode": {
    "name": "ipython",
    "version": 3
   },
   "file_extension": ".py",
   "mimetype": "text/x-python",
   "name": "python",
   "nbconvert_exporter": "python",
   "pygments_lexer": "ipython3",
   "version": "3.9.7"
  }
 },
 "nbformat": 4,
 "nbformat_minor": 5
}
